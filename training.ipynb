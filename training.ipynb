{
 "cells": [
  {
   "cell_type": "code",
   "execution_count": 1,
   "metadata": {},
   "outputs": [],
   "source": [
    "from brax import envs\n",
    "from prefacc.training.agents.prefppo import train as prefppo"
   ]
  },
  {
   "cell_type": "code",
   "execution_count": 70,
   "metadata": {},
   "outputs": [],
   "source": [
    "env = envs.get_environment('hopper', backend='positional')"
   ]
  },
  {
   "cell_type": "code",
   "execution_count": 126,
   "metadata": {},
   "outputs": [
    {
     "name": "stdout",
     "output_type": "stream",
     "text": [
      "Training complete\n"
     ]
    }
   ],
   "source": [
    "make_inference_fn, params, metrics = prefppo.train(\n",
    "  env,\n",
    "  num_timesteps=100_000_000, \n",
    "  num_evals=20, \n",
    "  reward_scaling=30, \n",
    "  episode_length=1000, \n",
    "  normalize_observations=True, \n",
    "  action_repeat=1, \n",
    "  unroll_length=5, \n",
    "  num_minibatches=32, \n",
    "  num_updates_per_batch=4, \n",
    "  discounting=0.97, \n",
    "  learning_rate=3e-4, \n",
    "  entropy_cost=1e-2, \n",
    "  num_envs=4096, \n",
    "  batch_size=2048, \n",
    "  num_prefill_iterations=10,\n",
    "  seed=123,\n",
    "  num_prefs=50000)\n",
    "\n",
    "print(\"Training complete\")"
   ]
  },
  {
   "cell_type": "code",
   "execution_count": 116,
   "metadata": {},
   "outputs": [
    {
     "name": "stdout",
     "output_type": "stream",
     "text": [
      "{'eval/walltime': 19.561452865600586, 'training/sps': np.float64(658266.4356909072), 'training/walltime': 172.35624265670776, 'training/entropy_loss': Array(0.05913162, dtype=float32), 'training/policy_loss': Array(-0.00039917, dtype=float32), 'training/total_loss': Array(23.174294, dtype=float32), 'training/v_loss': Array(23.11556, dtype=float32), 'eval/episode_reward': Array(474.9343, dtype=float32), 'eval/episode_reward_ctrl': Array(-0.39988792, dtype=float32), 'eval/episode_reward_forward': Array(179.74045, dtype=float32), 'eval/episode_reward_healthy': Array(295.59375, dtype=float32), 'eval/episode_x_position': Array(232.03638, dtype=float32), 'eval/episode_x_velocity': Array(179.74045, dtype=float32), 'eval/episode_reward_std': Array(36.36413, dtype=float32), 'eval/episode_reward_ctrl_std': Array(0.0288454, dtype=float32), 'eval/episode_reward_forward_std': Array(13.214758, dtype=float32), 'eval/episode_reward_healthy_std': Array(23.309212, dtype=float32), 'eval/episode_x_position_std': Array(21.347807, dtype=float32), 'eval/episode_x_velocity_std': Array(13.214758, dtype=float32), 'eval/avg_episode_length': Array(591.1875, dtype=float32), 'eval/epoch_eval_time': 0.526803731918335, 'eval/sps': 242974.74039125172, 'eval/episode_reward_history': array([240.41068, 233.21709, 272.3608 , 258.58304, 263.70654, 264.37006,\n",
      "       433.9098 , 415.93375, 430.74448, 436.74832, 439.16397, 440.14536,\n",
      "       448.9321 , 418.60388, 475.80206, 473.31348, 471.43457, 473.50977,\n",
      "       474.9343 ], dtype=float32), 'eval/timesteps': array([ 78.224051  ,  88.68597865,  99.1413331 , 109.6126585 ,\n",
      "       120.06552172, 130.53568316, 141.00798512, 151.47076368,\n",
      "       161.9418838 , 172.41681075, 182.89646983, 193.38574266,\n",
      "       203.86601925, 214.34370255, 224.82943201, 235.30555344,\n",
      "       245.7803359 , 256.2431314 , 266.72867203]), 'corr': [Array([0.3315276], dtype=float32), Array([0.372073], dtype=float32), Array([0.44453496], dtype=float32), Array([0.5769616], dtype=float32), Array([0.71508807], dtype=float32), Array([0.7987065], dtype=float32), Array([0.84701014], dtype=float32), Array([0.8740851], dtype=float32), Array([0.8975543], dtype=float32), Array([0.9101034], dtype=float32), Array([0.8224443], dtype=float32), Array([0.9235207], dtype=float32), Array([0.9281597], dtype=float32), Array([0.95317537], dtype=float32), Array([0.9564223], dtype=float32), Array([0.96363854], dtype=float32), Array([0.8989374], dtype=float32), Array([0.8552168], dtype=float32), Array([0.9319078], dtype=float32), Array([0.9533283], dtype=float32), Array([0.9538853], dtype=float32), Array([0.96160114], dtype=float32), Array([0.96445405], dtype=float32), Array([0.9587609], dtype=float32), Array([0.95888466], dtype=float32), Array([0.9700151], dtype=float32), Array([0.970273], dtype=float32), Array([0.9690905], dtype=float32), Array([0.9719589], dtype=float32)]}\n"
     ]
    }
   ],
   "source": [
    "print(metrics)"
   ]
  },
  {
   "cell_type": "code",
   "execution_count": 117,
   "metadata": {},
   "outputs": [],
   "source": [
    "from brax.io import model\n",
    "from brax.io import json\n",
    "from brax.io import html"
   ]
  },
  {
   "cell_type": "code",
   "execution_count": 118,
   "metadata": {},
   "outputs": [],
   "source": [
    "model.save_params('/tmp/params', params)"
   ]
  },
  {
   "cell_type": "code",
   "execution_count": 119,
   "metadata": {},
   "outputs": [],
   "source": [
    "params = model.load_params('/tmp/params')\n",
    "inference_fn = make_inference_fn(params)"
   ]
  },
  {
   "cell_type": "code",
   "execution_count": 120,
   "metadata": {},
   "outputs": [],
   "source": [
    "env = envs.create('hopper', backend='positional')"
   ]
  },
  {
   "cell_type": "code",
   "execution_count": 121,
   "metadata": {},
   "outputs": [],
   "source": [
    "import jax"
   ]
  },
  {
   "cell_type": "code",
   "execution_count": 122,
   "metadata": {},
   "outputs": [],
   "source": [
    "jit_env_reset = jax.jit(env.reset)\n",
    "jit_env_step = jax.jit(env.step)\n",
    "jit_inference_fn = jax.jit(inference_fn)"
   ]
  },
  {
   "cell_type": "code",
   "execution_count": 123,
   "metadata": {},
   "outputs": [],
   "source": [
    "rollout = []\n",
    "rng = jax.random.PRNGKey(seed=42)\n",
    "state = jit_env_reset(rng=rng)\n",
    "for _ in range(200):\n",
    "  rollout.append(state.pipeline_state)\n",
    "  act_rng, rng = jax.random.split(rng)\n",
    "  act, _ = jit_inference_fn(state.obs, act_rng)\n",
    "  state = jit_env_step(state, act)"
   ]
  },
  {
   "cell_type": "code",
   "execution_count": 124,
   "metadata": {},
   "outputs": [],
   "source": [
    "from IPython.display import HTML, clear_output"
   ]
  },
  {
   "cell_type": "code",
   "execution_count": 125,
   "metadata": {},
   "outputs": [
    {
     "data": {
      "text/html": [
       "<!DOCTYPE html>\n",
       "<html>\n",
       "\n",
       "  <head>\n",
       "    <title>Brax visualizer</title>\n",
       "    <link rel=\"shortcut icon\" type=\"image/x-icon\" href=\"/favicon.ico\">\n",
       "  </head>\n",
       "\n",
       "  <style>\n",
       "    body {\n",
       "      margin: 0;\n",
       "      padding: 0;\n",
       "    }\n",
       "\n",
       "    #brax-viewer {\n",
       "      height: 480px;\n",
       "      margin: 0;\n",
       "      padding: 0;\n",
       "    }\n",
       "  </style>\n",
       "  <script async src=\"https://unpkg.com/es-module-shims@1.6.3/dist/es-module-shims.js\"></script>\n",
       "\n",
       "  <script type=\"importmap\">\n",
       "    {\n",
       "      \"imports\": {\n",
       "        \"three\": \"https://unpkg.com/three@0.150.1/build/three.module.js\",\n",
       "        \"three/addons/\": \"https://unpkg.com/three@0.150.1/examples/jsm/\",\n",
       "        \"lilgui\": \"https://cdn.jsdelivr.net/npm/lil-gui@0.18.0/+esm\",\n",
       "        \"viewer\": \"https://cdn.jsdelivr.net/gh/google/brax@v0.12.0/brax/visualizer/js/viewer.js\"\n",
       "      }\n",
       "    }\n",
       "  </script>\n",
       "\n",
       "  <script src=\"https://unpkg.com/pako@2.1.0/dist/pako.min.js\"></script>\n",
       "\n",
       "  <script type=\"application/javascript\">\n",
       "  var system = \"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\";\n",
       "  // decode base64 (convert ascii to binary)\n",
       "  system = atob(system);\n",
       "  // convert binary string to character-number array\n",
       "  system = system.split('').map(function(x){return x.charCodeAt(0);});\n",
       "  // decompress\n",
       "  system = pako.inflate(system);\n",
       "  // convert gunzipped byteArray back to ascii string\n",
       "  system = new TextDecoder(\"utf-8\").decode(system);\n",
       "  // and load json\n",
       "  system = JSON.parse(system);\n",
       "  </script>\n",
       "\n",
       "  <body>\n",
       "\n",
       "    <div id=\"brax-viewer\"></div>\n",
       "\n",
       "    <script type=\"module\">\n",
       "      import {Viewer} from 'viewer';\n",
       "      const domElement = document.getElementById(\"brax-viewer\");\n",
       "      var viewer = new Viewer(domElement, system);\n",
       "    </script>\n",
       "\n",
       "  </body>\n",
       "\n",
       "</html>"
      ],
      "text/plain": [
       "<IPython.core.display.HTML object>"
      ]
     },
     "execution_count": 125,
     "metadata": {},
     "output_type": "execute_result"
    }
   ],
   "source": [
    "HTML(html.render(env.sys.tree_replace({'opt.timestep': env.dt}), rollout))"
   ]
  },
  {
   "cell_type": "code",
   "execution_count": null,
   "metadata": {},
   "outputs": [],
   "source": []
  }
 ],
 "metadata": {
  "kernelspec": {
   "display_name": "Python 3 (ipykernel)",
   "language": "python",
   "name": "python3"
  },
  "language_info": {
   "codemirror_mode": {
    "name": "ipython",
    "version": 3
   },
   "file_extension": ".py",
   "mimetype": "text/x-python",
   "name": "python",
   "nbconvert_exporter": "python",
   "pygments_lexer": "ipython3",
   "version": "3.10.16"
  }
 },
 "nbformat": 4,
 "nbformat_minor": 4
}
